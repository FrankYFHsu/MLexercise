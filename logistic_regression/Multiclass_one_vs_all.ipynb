{
 "cells": [
  {
   "cell_type": "markdown",
   "metadata": {},
   "source": [
    "# One-vs-all Classification"
   ]
  },
  {
   "cell_type": "markdown",
   "metadata": {},
   "source": [
    "### J cost function\n",
    "\n",
    "$$J(\\theta) = \\frac{1}{m}\\sum_{i=1}^m [-y^{(i)} \\log (h_{\\theta}(x^{(i)}))-(1-y^{(i)})\\log(1-h_{\\theta}(x^{(i)}))]+ \\frac{\\lambda}{2m}\\sum_{j=1}^{n}\\theta_j^2 $$\n",
    "\n",
    "* * *\n",
    "### The gradient of the cost\n",
    "\\begin{align}\n",
    "\\frac{\\partial}{\\partial \\theta_j}J(\\theta) & = \\frac{1}{m}\\sum_{i=1}^m (h_{\\theta}(x^{(i)})-y^{(i)})\\cdot x_j^{(i)} \\text{ for } j=0 \\\\\n",
    "\\frac{\\partial}{\\partial \\theta_j}J(\\theta) & = (\\frac{1}{m}\\sum_{i=1}^m (h_{\\theta}(x^{(i)})-y^{(i)})\\cdot x_j^{(i)})+ \\frac{\\lambda}{m}\\theta_j \\text{ for } j \\geq 1\n",
    "\\end{align}\n"
   ]
  },
  {
   "cell_type": "code",
   "execution_count": 1,
   "metadata": {
    "collapsed": true
   },
   "outputs": [],
   "source": [
    "import numpy as np\n",
    "import matplotlib.pyplot as plt\n",
    "%matplotlib inline"
   ]
  },
  {
   "cell_type": "markdown",
   "metadata": {},
   "source": [
    "### If load data from a mat file\n",
    "```python\n",
    "import scipy.io as sio\n",
    "mat_contents = sio.loadmat('digist.mat')\n",
    "number_label = 10\n",
    "initial_X = mat_contents['X']\n",
    "print('X.shape=', initial_X.shape)\n",
    "initial_y = mat_contents['y']\n",
    "initial_y = np.mod(initial_y, 10)\n",
    "print('y.shape=', initial_y.shape)\n",
    "```"
   ]
  },
  {
   "cell_type": "markdown",
   "metadata": {},
   "source": [
    "### Load digist data from scipy"
   ]
  },
  {
   "cell_type": "code",
   "execution_count": 2,
   "metadata": {},
   "outputs": [
    {
     "name": "stdout",
     "output_type": "stream",
     "text": [
      "Optical Recognition of Handwritten Digits Data Set\n",
      "===================================================\n",
      "\n",
      "Notes\n",
      "-----\n",
      "Data Set Characteristics:\n",
      "    :Number of Instances: 5620\n",
      "    :Number of Attributes: 64\n",
      "    :Attribute Information: 8x8 image of integer pixels in the range 0..16.\n",
      "    :Missing Attribute Values: None\n",
      "    :Creator: E. Alpaydin (alpaydin '@' boun.edu.tr)\n",
      "    :Date: July; 1998\n",
      "\n",
      "This is a copy of the test set of the UCI ML hand-written digits datasets\n",
      "http://archive.ics.uci.edu/ml/datasets/Optical+Recognition+of+Handwritten+Digits\n",
      "\n",
      "The data set contains images of hand-written digits: 10 classes where\n",
      "each class refers to a digit.\n",
      "\n",
      "Preprocessing programs made available by NIST were used to extract\n",
      "normalized bitmaps of handwritten digits from a preprinted form. From a\n",
      "total of 43 people, 30 contributed to the training set and different 13\n",
      "to the test set. 32x32 bitmaps are divided into nonoverlapping blocks of\n",
      "4x4 and the number of on pixels are counted in each block. This generates\n",
      "an input matrix of 8x8 where each element is an integer in the range\n",
      "0..16. This reduces dimensionality and gives invariance to small\n",
      "distortions.\n",
      "\n",
      "For info on NIST preprocessing routines, see M. D. Garris, J. L. Blue, G.\n",
      "T. Candela, D. L. Dimmick, J. Geist, P. J. Grother, S. A. Janet, and C.\n",
      "L. Wilson, NIST Form-Based Handprint Recognition System, NISTIR 5469,\n",
      "1994.\n",
      "\n",
      "References\n",
      "----------\n",
      "  - C. Kaynak (1995) Methods of Combining Multiple Classifiers and Their\n",
      "    Applications to Handwritten Digit Recognition, MSc Thesis, Institute of\n",
      "    Graduate Studies in Science and Engineering, Bogazici University.\n",
      "  - E. Alpaydin, C. Kaynak (1998) Cascading Classifiers, Kybernetika.\n",
      "  - Ken Tang and Ponnuthurai N. Suganthan and Xi Yao and A. Kai Qin.\n",
      "    Linear dimensionalityreduction using relevance weighted LDA. School of\n",
      "    Electrical and Electronic Engineering Nanyang Technological University.\n",
      "    2005.\n",
      "  - Claudio Gentile. A New Approximate Maximal Margin Classification\n",
      "    Algorithm. NIPS. 2000.\n",
      "\n",
      "X.shape= (1797, 64)\n",
      "y.shape= (1797,)\n"
     ]
    }
   ],
   "source": [
    "from sklearn.datasets import load_digits\n",
    "\n",
    "digists_dataset = load_digits()\n",
    "print(digists_dataset.DESCR)\n",
    "number_label = 10\n",
    "initial_X = digists_dataset.data\n",
    "initial_y = digists_dataset.target\n",
    "print('X.shape=', initial_X.shape)\n",
    "print('y.shape=', initial_y.shape)"
   ]
  },
  {
   "cell_type": "code",
   "execution_count": 3,
   "metadata": {},
   "outputs": [
    {
     "name": "stderr",
     "output_type": "stream",
     "text": [
      "E:\\Anaconda3\\lib\\site-packages\\sklearn\\model_selection\\_split.py:2010: FutureWarning: From version 0.21, test_size will always complement train_size unless both are specified.\n",
      "  FutureWarning)\n"
     ]
    }
   ],
   "source": [
    "from sklearn.model_selection import train_test_split\n",
    "X_train, X_test, y_train, y_test = train_test_split(initial_X, initial_y, train_size=0.7, random_state=0)"
   ]
  },
  {
   "cell_type": "code",
   "execution_count": 4,
   "metadata": {},
   "outputs": [
    {
     "data": {
      "text/plain": [
       "(1257,)"
      ]
     },
     "execution_count": 4,
     "metadata": {},
     "output_type": "execute_result"
    }
   ],
   "source": [
    "y_train.shape"
   ]
  },
  {
   "cell_type": "code",
   "execution_count": 5,
   "metadata": {},
   "outputs": [
    {
     "data": {
      "text/plain": [
       "array([0, 1, 2, 3, 4, 5, 6, 7, 8, 9])"
      ]
     },
     "execution_count": 5,
     "metadata": {},
     "output_type": "execute_result"
    }
   ],
   "source": [
    "np.unique(y_train)"
   ]
  },
  {
   "cell_type": "code",
   "execution_count": 6,
   "metadata": {
    "collapsed": true
   },
   "outputs": [],
   "source": [
    "def sigmoid(z):\n",
    "    return 1/(1+np.exp(-1*z))\n",
    "\n",
    "def compute_cost(X_values, y_values, theta, lambda_value):\n",
    "    m = len(X_values)\n",
    "    h = sigmoid(X_values.dot(theta))\n",
    "    \n",
    "    y1 = y_values[y_values==1]\n",
    "    y0 = y_values[y_values==0]\n",
    "    h1 = h[y_values==1]\n",
    "    h0 = h[y_values==0]\n",
    "        \n",
    "    cost1 = -1*y1.T.dot(np.log(h1))\n",
    "    cost0 = -((1-y0).T).dot(np.log(1-h0))    \n",
    "    cost = (cost1+cost0)/m\n",
    "    newtheta = np.copy(theta)\n",
    "    newtheta[0]=0\n",
    "    cost = cost +  lambda_value* (newtheta.T.dot(newtheta))/(2*m)\n",
    "    grad = X_values.T.dot(h-y_values)/m\n",
    "    grad = grad + lambda_value* newtheta/m\n",
    "    return cost, grad\n",
    "\n",
    "def compute_cost_backup(X_values, y_values, theta, lambda_value):\n",
    "    m = len(X_values)\n",
    "    h = sigmoid(X_values.dot(theta))\n",
    "    cost = (-1*y_values.T.dot(np.log(h))-((1-y_values).T).dot(np.log(1-h)))/m\n",
    "    newtheta = np.copy(theta)\n",
    "    newtheta[0] = 0\n",
    "    cost = cost +  lambda_value* (newtheta.T.dot(newtheta))/(2*m)\n",
    "    grad = X_values.T.dot(h-y_values)/m\n",
    "    grad = grad + lambda_value* newtheta/m\n",
    "    return cost, grad"
   ]
  },
  {
   "cell_type": "code",
   "execution_count": 7,
   "metadata": {
    "collapsed": true
   },
   "outputs": [],
   "source": [
    "import scipy.optimize as opt"
   ]
  },
  {
   "cell_type": "code",
   "execution_count": 8,
   "metadata": {
    "collapsed": true
   },
   "outputs": [],
   "source": [
    "def costFunction(theta, X_values, y_values, lambda_value):\n",
    "    theta = theta.reshape(-1, 1)\n",
    "    cost, grad = compute_cost(X_values, y_values, theta, lambda_value)\n",
    "    return cost\n",
    "\n",
    "def gradFunction(theta, X_values, y_values, lambda_value):\n",
    "    theta = theta.reshape(-1, 1)\n",
    "    cost, grad = compute_cost(X_values, y_values, theta, lambda_value)\n",
    "    grad = grad.reshape(-1)\n",
    "    return grad"
   ]
  },
  {
   "cell_type": "markdown",
   "metadata": {},
   "source": [
    "### Use one-vs-all method to classfiy multiclass data"
   ]
  },
  {
   "cell_type": "code",
   "execution_count": 9,
   "metadata": {
    "collapsed": true
   },
   "outputs": [],
   "source": [
    "def oneVsAll(X_values, y_values, num_labels, lambda_value):\n",
    "    m = X_values.shape[0]\n",
    "    n = X_values.shape[1]\n",
    "    all_theta = np.zeros([num_labels, n + 1])\n",
    "    X = np.insert(X_values, 0, 1, axis=1)\n",
    "    \n",
    "    for i in range(num_labels):\n",
    "        y = (y_values==i).astype(int)\n",
    "        initial_theta = np.zeros([n + 1, 1])\n",
    "        print('{}-th class'.format(i))\n",
    "        Result = opt.minimize(fun = costFunction, x0 = initial_theta, args = (X, y, lambda_value), \n",
    "                              method = 'BFGS', jac = gradFunction, options={'maxiter': 400, 'disp': True})\n",
    "        all_theta[i] = Result.x.T.reshape(-1)\n",
    "        \n",
    "    return all_theta"
   ]
  },
  {
   "cell_type": "code",
   "execution_count": 10,
   "metadata": {
    "collapsed": true
   },
   "outputs": [],
   "source": [
    "def predictOneVsAll(theta, X_values):\n",
    "    m = X_values.shape[0]\n",
    "    num_labels = theta.shape[0]\n",
    "\n",
    "    p = np.zeros([m,1]) # class, m X num_labels\n",
    "    X = np.insert(X_values, 0, 1, axis=1)\n",
    "    \n",
    "    z = X.dot(theta.T) # m X num_labels = m X n * n X num_labels \n",
    "    h = sigmoid(z);\n",
    "    \n",
    "    pc = np.argmax(h, axis=1)\n",
    "    p = pc.reshape(-1,1)\n",
    "    return p"
   ]
  },
  {
   "cell_type": "code",
   "execution_count": 11,
   "metadata": {
    "collapsed": true
   },
   "outputs": [],
   "source": [
    "from sklearn.preprocessing import MinMaxScaler\n",
    "scaler = MinMaxScaler()\n",
    "X_scaled = scaler.fit_transform(X_train)"
   ]
  },
  {
   "cell_type": "code",
   "execution_count": 12,
   "metadata": {},
   "outputs": [
    {
     "name": "stdout",
     "output_type": "stream",
     "text": [
      "0-th class\n",
      "Optimization terminated successfully.\n",
      "         Current function value: 0.029570\n",
      "         Iterations: 114\n",
      "         Function evaluations: 115\n",
      "         Gradient evaluations: 115\n",
      "1-th class\n",
      "Optimization terminated successfully.\n",
      "         Current function value: 0.073826\n",
      "         Iterations: 125\n",
      "         Function evaluations: 127\n",
      "         Gradient evaluations: 127\n",
      "2-th class\n",
      "Optimization terminated successfully.\n",
      "         Current function value: 0.039677\n",
      "         Iterations: 129\n",
      "         Function evaluations: 130\n",
      "         Gradient evaluations: 130\n",
      "3-th class\n",
      "Optimization terminated successfully.\n",
      "         Current function value: 0.063572\n",
      "         Iterations: 139\n",
      "         Function evaluations: 140\n",
      "         Gradient evaluations: 140\n",
      "4-th class\n",
      "Optimization terminated successfully.\n",
      "         Current function value: 0.040887\n",
      "         Iterations: 100\n",
      "         Function evaluations: 101\n",
      "         Gradient evaluations: 101\n",
      "5-th class\n",
      "Optimization terminated successfully.\n",
      "         Current function value: 0.046309\n",
      "         Iterations: 129\n",
      "         Function evaluations: 130\n",
      "         Gradient evaluations: 130\n",
      "6-th class\n",
      "Optimization terminated successfully.\n",
      "         Current function value: 0.035853\n",
      "         Iterations: 123\n",
      "         Function evaluations: 124\n",
      "         Gradient evaluations: 124\n",
      "7-th class\n",
      "Optimization terminated successfully.\n",
      "         Current function value: 0.038936\n",
      "         Iterations: 130\n",
      "         Function evaluations: 131\n",
      "         Gradient evaluations: 131\n",
      "8-th class\n",
      "Optimization terminated successfully.\n",
      "         Current function value: 0.110873\n",
      "         Iterations: 138\n",
      "         Function evaluations: 140\n",
      "         Gradient evaluations: 140\n",
      "9-th class\n",
      "Optimization terminated successfully.\n",
      "         Current function value: 0.076633\n",
      "         Iterations: 142\n",
      "         Function evaluations: 143\n",
      "         Gradient evaluations: 143\n"
     ]
    }
   ],
   "source": [
    "thetas = oneVsAll(X_scaled, y_train.reshape(-1,1), number_label, 1)"
   ]
  },
  {
   "cell_type": "code",
   "execution_count": 13,
   "metadata": {
    "collapsed": true
   },
   "outputs": [],
   "source": [
    "X_test_scaled = scaler.transform(X_test)"
   ]
  },
  {
   "cell_type": "code",
   "execution_count": 14,
   "metadata": {
    "collapsed": true
   },
   "outputs": [],
   "source": [
    "predict = predictOneVsAll(thetas, X_test_scaled)"
   ]
  },
  {
   "cell_type": "code",
   "execution_count": 15,
   "metadata": {},
   "outputs": [
    {
     "data": {
      "text/plain": [
       "0.95740740740740737"
      ]
     },
     "execution_count": 15,
     "metadata": {},
     "output_type": "execute_result"
    }
   ],
   "source": [
    "np.mean(predict==y_test.reshape(-1,1))"
   ]
  },
  {
   "cell_type": "markdown",
   "metadata": {},
   "source": [
    "> If we didn't normalize, the result is 0.94629"
   ]
  },
  {
   "cell_type": "markdown",
   "metadata": {
    "collapsed": true
   },
   "source": [
    "## sklearn.linear_model.LogisticRegression() support multiclass (by OneVsRest)"
   ]
  },
  {
   "cell_type": "code",
   "execution_count": 16,
   "metadata": {},
   "outputs": [
    {
     "data": {
      "text/plain": [
       "LogisticRegression(C=1, class_weight=None, dual=False, fit_intercept=True,\n",
       "          intercept_scaling=1, max_iter=100, multi_class='ovr', n_jobs=1,\n",
       "          penalty='l2', random_state=None, solver='liblinear', tol=0.0001,\n",
       "          verbose=0, warm_start=False)"
      ]
     },
     "execution_count": 16,
     "metadata": {},
     "output_type": "execute_result"
    }
   ],
   "source": [
    "from sklearn import linear_model\n",
    "logi_reg = linear_model.LogisticRegression(C=1)\n",
    "logi_reg.fit(X_train, y_train)"
   ]
  },
  {
   "cell_type": "code",
   "execution_count": 17,
   "metadata": {},
   "outputs": [
    {
     "data": {
      "text/plain": [
       "0.95370370370370372"
      ]
     },
     "execution_count": 17,
     "metadata": {},
     "output_type": "execute_result"
    }
   ],
   "source": [
    "predict = logi_reg.predict(X_test)\n",
    "np.mean(predict==y_test)"
   ]
  },
  {
   "cell_type": "markdown",
   "metadata": {
    "collapsed": true
   },
   "source": [
    "## from sklearn.multiclass import OneVsRestClassifier"
   ]
  },
  {
   "cell_type": "code",
   "execution_count": 18,
   "metadata": {
    "collapsed": true
   },
   "outputs": [],
   "source": [
    "from sklearn.multiclass import OneVsRestClassifier"
   ]
  },
  {
   "cell_type": "code",
   "execution_count": 19,
   "metadata": {},
   "outputs": [
    {
     "data": {
      "text/plain": [
       "OneVsRestClassifier(estimator=LogisticRegression(C=1.0, class_weight=None, dual=False, fit_intercept=True,\n",
       "          intercept_scaling=1, max_iter=100, multi_class='ovr', n_jobs=1,\n",
       "          penalty='l2', random_state=None, solver='liblinear', tol=0.0001,\n",
       "          verbose=0, warm_start=False),\n",
       "          n_jobs=1)"
      ]
     },
     "execution_count": 19,
     "metadata": {},
     "output_type": "execute_result"
    }
   ],
   "source": [
    "clf = OneVsRestClassifier(linear_model.LogisticRegression())\n",
    "clf.fit(X_train, y_train)"
   ]
  },
  {
   "cell_type": "code",
   "execution_count": 20,
   "metadata": {},
   "outputs": [
    {
     "data": {
      "text/plain": [
       "0.95185185185185184"
      ]
     },
     "execution_count": 20,
     "metadata": {},
     "output_type": "execute_result"
    }
   ],
   "source": [
    "predict = clf.predict(X_test)\n",
    "np.mean(predict==y_test)"
   ]
  },
  {
   "cell_type": "code",
   "execution_count": null,
   "metadata": {
    "collapsed": true
   },
   "outputs": [],
   "source": []
  }
 ],
 "metadata": {
  "kernelspec": {
   "display_name": "Python 3",
   "language": "python",
   "name": "python3"
  },
  "language_info": {
   "codemirror_mode": {
    "name": "ipython",
    "version": 3
   },
   "file_extension": ".py",
   "mimetype": "text/x-python",
   "name": "python",
   "nbconvert_exporter": "python",
   "pygments_lexer": "ipython3",
   "version": "3.6.1"
  }
 },
 "nbformat": 4,
 "nbformat_minor": 2
}
