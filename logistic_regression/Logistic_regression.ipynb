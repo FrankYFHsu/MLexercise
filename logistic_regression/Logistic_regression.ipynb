{
 "cells": [
  {
   "cell_type": "markdown",
   "metadata": {},
   "source": [
    "# Logistic Regression\n",
    "\n",
    "## Binary classification problem, let y $\\in \\{0,1\\}$"
   ]
  },
  {
   "cell_type": "markdown",
   "metadata": {},
   "source": [
    "### Hypothesis function $h_\\theta(x)$\n",
    "\n",
    "$$h_\\theta(x)=g(\\theta^T x) $$\n",
    "where $g$ is the sigmoid function:\n",
    "$$g(z)=\\frac{1}{1+e^{-z}}$$\n",
    "\n",
    "and the derivative of the sigmoid function $g'(z)$:\n",
    "$$\n",
    "g'(z)=g(z)(1-g(z))\n",
    "$$\n",
    "* * *\n",
    "### J cost function\n",
    "Using cross entropy instead of mean squared error:\n",
    "\n",
    "$$J(\\theta) = \\frac{1}{m}\\sum_{i=1}^m [-y^{(i)} \\log (h_{\\theta}(x^{(i)}))-(1-y^{(i)})\\log(1-h_{\\theta}(x^{(i)}))] $$\n",
    "\n",
    "Note that $-y^{(i)} \\log (h_{\\theta}(x^{(i)}))-(1-y^{(i)})\\log(1-h_{\\theta}(x^{(i)}))$ is the cross entropy $H(h_{\\theta}(x^{(i)}), y^{(i)})$ between two Bernoulli distribution.\n",
    "\n",
    "vectorized version:  \n",
    "$$ \\text{if } X \\in \\mathbb{R}^{m\\times n}\n",
    "\\text{, and }\\theta \\in \\mathbb{R}^{n}\n",
    "$$\n",
    "$$h=g(X\\theta)$$\n",
    "$$J(\\theta) = \\frac{1}{m}(-y^T \\log(h)-(1-y)^{T}\\log(1-h)) $$\n",
    "* * *\n",
    "### The gradient of the cost\n",
    "\n",
    "$$ \\frac{\\partial}{\\partial \\theta_j}J(\\theta) = \\frac{1}{m}\\sum_{i=1}^m (h_{\\theta}(x^{(i)})-y^{(i)})\\cdot x_j^{(i)}$$\n",
    "\n",
    "vectorized version:\n",
    "$$\\frac{\\partial}{\\partial \\theta_j}J(\\theta) =  \\frac{1}{m}X^T (g(X\\theta) -\\vec{y}) $$\n",
    "* * *\n",
    "### Gradient descent\n",
    "repeat until convergence:\n",
    "$$\\theta_j := \\theta_j - \\alpha \\frac{1}{m}\\sum_{i=1}^m (h_{\\theta}(x^{(i)})-y^{(i)}) \\cdot x_j^{(i)} \\text{ for } j=1,2,...m$$"
   ]
  },
  {
   "cell_type": "code",
   "execution_count": 1,
   "metadata": {
    "collapsed": true
   },
   "outputs": [],
   "source": [
    "import numpy as np\n",
    "import matplotlib.pyplot as plt\n",
    "%matplotlib inline"
   ]
  },
  {
   "cell_type": "markdown",
   "metadata": {},
   "source": [
    "## Generate the toy dataset"
   ]
  },
  {
   "cell_type": "code",
   "execution_count": 2,
   "metadata": {
    "collapsed": true
   },
   "outputs": [],
   "source": [
    "from sklearn.datasets import make_classification\n",
    "\n",
    "original_X, original_y = make_classification(n_samples = 200, n_features=2, n_redundant=0, n_informative=2, \n",
    "                                 n_clusters_per_class=1, flip_y = 0.01, class_sep = 1.5,\n",
    "                                 random_state=1, shift=[150,50], scale=10)\n",
    "#plt.scatter(original_X[:, 0], original_X[:, 1], c=original_y)"
   ]
  },
  {
   "cell_type": "markdown",
   "metadata": {},
   "source": [
    "## Visualizing the data"
   ]
  },
  {
   "cell_type": "code",
   "execution_count": 3,
   "metadata": {},
   "outputs": [
    {
     "data": {
      "text/plain": [
       "<matplotlib.legend.Legend at 0x91bbf98>"
      ]
     },
     "execution_count": 3,
     "metadata": {},
     "output_type": "execute_result"
    },
    {
     "data": {
      "image/png": "[encoded data removed]",
      "text/plain": [
       "<matplotlib.figure.Figure at 0x90242b0>"
      ]
     },
     "metadata": {},
     "output_type": "display_data"
    }
   ],
   "source": [
    "plt.scatter(original_X[original_y==1][:,0], original_X[original_y==1][:,1], marker='+', label='y=1', s=100)\n",
    "plt.scatter(original_X[original_y==0][:,0], original_X[original_y==0][:,1], marker='.', label='y=0', s=100)\n",
    "plt.xlabel('feature 1')\n",
    "plt.ylabel('feature 2')\n",
    "plt.legend()"
   ]
  },
  {
   "cell_type": "markdown",
   "metadata": {},
   "source": [
    "## Implementation"
   ]
  },
  {
   "cell_type": "code",
   "execution_count": 4,
   "metadata": {
    "collapsed": true
   },
   "outputs": [],
   "source": [
    "def sigmoid(z):\n",
    "    return 1/(1+np.exp(-1*z))\n",
    "\n",
    "def compute_cost_backup(X_values, y_values, theta):\n",
    "    m = len(X_values)\n",
    "    h = sigmoid(X_values.dot(theta))\n",
    "    cost = (-1*y_values.T.dot(np.log(h))-((1-y_values).T).dot(np.log(1-h)))/m\n",
    "    grad = X_values.T.dot(h-y_values)/m\n",
    "    return cost, grad\n",
    "\n",
    "def compute_cost(X_values, y_values, theta):\n",
    "    m = X_values.shape[0]\n",
    "    h = sigmoid(X_values.dot(theta))    \n",
    "    y1 = y_values[y_values==1].reshape(-1,1)\n",
    "    y0 = y_values[y_values==0].reshape(-1,1)\n",
    "    h1 = h[y_values==1].reshape(-1,1)\n",
    "    h0 = h[y_values==0].reshape(-1,1)\n",
    "    cost1 = -1*y1.T.dot(np.log(h1))\n",
    "    cost0 = -((1-y0).T).dot(np.log(1-h0))    \n",
    "    cost = (cost1+cost0)/m\n",
    "    grad = X_values.T.dot(h-y_values)/m\n",
    "    return cost, grad\n",
    "\n",
    "def gradient_descent(X_values, y_values, theta, learningRate, iterations):\n",
    "    m = X_values.shape[0]\n",
    "    n = X_values.shape[1]\n",
    "    cost = np.zeros(iterations)\n",
    "    for i in range(iterations):\n",
    "        cost[i], grad = compute_cost(X_values, y_values, theta)\n",
    "        theta = theta - learningRate*grad                \n",
    "    return theta, cost\n",
    "\n",
    "def featureNormalize(X_values):\n",
    "    mean = np.mean(X_values, axis=0)\n",
    "    std = np.std(X_values, axis=0)\n",
    "    X_values_normalized = (X_values-mean)/std\n",
    "    return X_values_normalized, mean, std\n",
    "\n",
    "def predict(original_X_values, theta):\n",
    "    X_values = np.insert(original_X_values, 0, 1, axis=1)\n",
    "    return sigmoid(X_values.dot(theta))>=0.5"
   ]
  },
  {
   "cell_type": "markdown",
   "metadata": {
    "collapsed": true
   },
   "source": [
    "### Sigmoid function"
   ]
  },
  {
   "cell_type": "code",
   "execution_count": 5,
   "metadata": {
    "scrolled": true
   },
   "outputs": [
    {
     "data": {
      "text/plain": [
       "[<matplotlib.lines.Line2D at 0x931ee10>]"
      ]
     },
     "execution_count": 5,
     "metadata": {},
     "output_type": "execute_result"
    },
    {
     "data": {
      "image/png": "[encoded data removed]",
      "text/plain": [
       "<matplotlib.figure.Figure at 0x9167898>"
      ]
     },
     "metadata": {},
     "output_type": "display_data"
    }
   ],
   "source": [
    "test_x = np.linspace(-5,5,100)\n",
    "test_y = sigmoid(test_x)\n",
    "plt.grid()\n",
    "plt.xlabel('z')\n",
    "plt.ylabel('g(z)')\n",
    "ax = plt.gca() \n",
    "ax.axis([-5, 5, 0, 1]) #plt.axis([-5, 5, 0, 1])\n",
    "ax.set_xticks(np.linspace(-5,5,11))\n",
    "ax.set_yticks(np.linspace(0,1,11))\n",
    "plt.plot(test_x, test_y)"
   ]
  },
  {
   "cell_type": "markdown",
   "metadata": {},
   "source": [
    "Let $z=\\theta^T x$, $g(z)=\\frac{1}{1+e^{-z}}$, then the decesion is $g(z) \\geq 0.5 \\to y=1$ and $g(z) < 0.5 \\to y=0 $. That is, $z \\geq 0 \\to y=1$ and $z < 0 \\to y=0 $"
   ]
  },
  {
   "cell_type": "markdown",
   "metadata": {},
   "source": [
    "## Logistic regression"
   ]
  },
  {
   "cell_type": "code",
   "execution_count": 6,
   "metadata": {
    "collapsed": true
   },
   "outputs": [],
   "source": [
    "X_normalized, mean, std = featureNormalize(original_X)\n",
    "X = np.insert(X_normalized, 0, 1, axis=1)\n",
    "y = original_y.reshape(-1, 1)\n",
    "initial_theta = np.zeros((X.shape[1],1))\n",
    "num_iterations = 400\n",
    "learning_rate = 1"
   ]
  },
  {
   "cell_type": "markdown",
   "metadata": {
    "collapsed": true
   },
   "source": [
    "we can use `sklearn` to normalize features\n",
    "```python\n",
    "from sklearn.preprocessing import MinMaxScaler\n",
    "scaler = MinMaxScaler()\n",
    "X_scaled = scaler.fit_transform(original_X)\n",
    "X_test_scaled = scaler.transform(X_test)\n",
    "```"
   ]
  },
  {
   "cell_type": "code",
   "execution_count": 7,
   "metadata": {
    "scrolled": true
   },
   "outputs": [
    {
     "name": "stdout",
     "output_type": "stream",
     "text": [
      "cost= [[ 0.69314718]]\n",
      "grad= [[ 0.005     ]\n",
      " [ 0.03038442]\n",
      " [ 0.40750925]]\n"
     ]
    }
   ],
   "source": [
    "cost, grad = compute_cost(X, y, initial_theta)\n",
    "print('cost=', cost)\n",
    "print('grad=', grad)"
   ]
  },
  {
   "cell_type": "code",
   "execution_count": 8,
   "metadata": {
    "collapsed": true
   },
   "outputs": [],
   "source": [
    "theta, cost = gradient_descent(X, y, initial_theta, learning_rate, num_iterations)"
   ]
  },
  {
   "cell_type": "code",
   "execution_count": 9,
   "metadata": {},
   "outputs": [
    {
     "data": {
      "text/plain": [
       "array([[ 0.27196349],\n",
       "       [ 1.17501383],\n",
       "       [-5.44860024]])"
      ]
     },
     "execution_count": 9,
     "metadata": {},
     "output_type": "execute_result"
    }
   ],
   "source": [
    "theta"
   ]
  },
  {
   "cell_type": "code",
   "execution_count": 10,
   "metadata": {},
   "outputs": [
    {
     "data": {
      "text/plain": [
       "[<matplotlib.lines.Line2D at 0x95c5668>]"
      ]
     },
     "execution_count": 10,
     "metadata": {},
     "output_type": "execute_result"
    },
    {
     "data": {
      "image/png": "[encoded data removed]",
      "text/plain": [
       "<matplotlib.figure.Figure at 0x9018d30>"
      ]
     },
     "metadata": {},
     "output_type": "display_data"
    }
   ],
   "source": [
    "plt.xlabel('Number of iterations');\n",
    "plt.ylabel('Cost J');\n",
    "plt.plot(range(num_iterations), cost)"
   ]
  },
  {
   "cell_type": "code",
   "execution_count": 11,
   "metadata": {},
   "outputs": [
    {
     "data": {
      "text/plain": [
       "<matplotlib.text.Text at 0x9637588>"
      ]
     },
     "execution_count": 11,
     "metadata": {},
     "output_type": "execute_result"
    },
    {
     "data": {
      "image/png": "[encoded data removed]",
      "text/plain": [
       "<matplotlib.figure.Figure at 0x936a240>"
      ]
     },
     "metadata": {},
     "output_type": "display_data"
    }
   ],
   "source": [
    "#decision bound\n",
    "decision_x = [X_normalized[:,0].min(axis=0)-0.5, X_normalized[:,0].max(axis=0)+0.5]\n",
    "decision_y = (-1/theta[2])*(theta[1]*decision_x + theta[0])\n",
    "\n",
    "plt.plot(decision_x, decision_y, color=\"r\")\n",
    "\n",
    "plt.scatter(X[original_y==1][:,1],X[original_y==1][:,2], marker='+', label='y=1', s=100)\n",
    "plt.scatter(X[original_y==0][:,1],X[original_y==0][:,2], marker='.', label='y=0', s=100)\n",
    "plt.xlabel('feature 1')\n",
    "plt.ylabel('feature 2')\n",
    "plt.legend()\n",
    "plt.title('In normalized features')"
   ]
  },
  {
   "cell_type": "code",
   "execution_count": 12,
   "metadata": {},
   "outputs": [
    {
     "data": {
      "text/plain": [
       "<matplotlib.text.Text at 0x96e49b0>"
      ]
     },
     "execution_count": 12,
     "metadata": {},
     "output_type": "execute_result"
    },
    {
     "data": {
      "image/png": "[encoded data removed]",
      "text/plain": [
       "<matplotlib.figure.Figure at 0x95e7208>"
      ]
     },
     "metadata": {},
     "output_type": "display_data"
    }
   ],
   "source": [
    "#decision bound\n",
    "decision_x = np.array([X[:,1].min(axis=0)-1,X[:,1].max(axis=0)+1])\n",
    "decision_y = (-1/theta[2])*(theta[1]*decision_x + theta[0])\n",
    "\n",
    "decision_x = np.multiply(decision_x,std[0])+ mean[0]\n",
    "decision_y = np.multiply(decision_y,std[1])+ mean[1]\n",
    "\n",
    "plt.plot(decision_x, decision_y, color=\"r\")\n",
    "\n",
    "plt.scatter(original_X[original_y==1][:,0], original_X[original_y==1][:,1], marker='+', label='y=1', s=100)\n",
    "plt.scatter(original_X[original_y==0][:,0], original_X[original_y==0][:,1], marker='.', label='y=0', s=100)\n",
    "plt.xlabel('feature 1')\n",
    "plt.ylabel('feature 2')\n",
    "plt.legend()\n",
    "plt.title('In original features')\n",
    "#plt.axis([1500, 1530, 460, 540])"
   ]
  },
  {
   "cell_type": "markdown",
   "metadata": {},
   "source": [
    "## Predict and Accuracies"
   ]
  },
  {
   "cell_type": "code",
   "execution_count": 14,
   "metadata": {},
   "outputs": [
    {
     "name": "stdout",
     "output_type": "stream",
     "text": [
      "Train Accuracy: 0.975000\n",
      "\n"
     ]
    }
   ],
   "source": [
    "p = predict(Xnorm, theta)\n",
    "predict_accuracy = np.equal(p.reshape(-1,1), y.reshape(-1,1))\n",
    "print('Train Accuracy: %f\\n'%(np.mean(predict_accuracy)));"
   ]
  },
  {
   "cell_type": "markdown",
   "metadata": {},
   "source": [
    "## Optimizing using fminunc"
   ]
  },
  {
   "cell_type": "code",
   "execution_count": 15,
   "metadata": {
    "collapsed": true
   },
   "outputs": [],
   "source": [
    "import scipy.optimize as opt"
   ]
  },
  {
   "cell_type": "code",
   "execution_count": 16,
   "metadata": {
    "collapsed": true
   },
   "outputs": [],
   "source": [
    "def costFunction(theta, X_values, y_values):\n",
    "    theta = theta.reshape(-1, 1)\n",
    "    cost, grad = compute_cost(X_values, y_values, theta)\n",
    "    return cost\n",
    "\n",
    "def gradFunction(theta, X_values, y_values):\n",
    "    theta = theta.reshape(-1, 1)\n",
    "    cost, grad = compute_cost(X_values, y_values, theta)\n",
    "    grad = grad.reshape(-1)\n",
    "    return grad"
   ]
  },
  {
   "cell_type": "code",
   "execution_count": 17,
   "metadata": {
    "scrolled": true
   },
   "outputs": [
    {
     "name": "stdout",
     "output_type": "stream",
     "text": [
      "Warning: Desired error not necessarily achieved due to precision loss.\n",
      "         Current function value: 0.693147\n",
      "         Iterations: 0\n",
      "         Function evaluations: 16\n",
      "         Gradient evaluations: 4\n"
     ]
    },
    {
     "name": "stderr",
     "output_type": "stream",
     "text": [
      "E:\\Anaconda3\\lib\\site-packages\\ipykernel_launcher.py:2: RuntimeWarning: overflow encountered in exp\n",
      "  \n",
      "E:\\Anaconda3\\lib\\site-packages\\ipykernel_launcher.py:18: RuntimeWarning: divide by zero encountered in log\n",
      "E:\\Anaconda3\\lib\\site-packages\\ipykernel_launcher.py:2: RuntimeWarning: overflow encountered in exp\n",
      "  \n",
      "E:\\Anaconda3\\lib\\site-packages\\ipykernel_launcher.py:18: RuntimeWarning: divide by zero encountered in log\n"
     ]
    }
   ],
   "source": [
    "X = np.insert(original_X, 0, 1, axis=1)\n",
    "initial_theta = np.zeros((X.shape[1],1))\n",
    "y = original_y.reshape(-1,1)\n",
    "Result = opt.minimize(fun = costFunction, x0 = initial_theta, args = (X, y),\n",
    "                      method = 'BFGS', jac = gradFunction, options={'maxiter': 400, 'disp': True})"
   ]
  },
  {
   "cell_type": "markdown",
   "metadata": {},
   "source": [
    ">In this toy dataset, if we didn't normalize features, the result of opt.minimize will go wrong...."
   ]
  },
  {
   "cell_type": "code",
   "execution_count": 18,
   "metadata": {},
   "outputs": [
    {
     "name": "stdout",
     "output_type": "stream",
     "text": [
      "Optimization terminated successfully.\n",
      "         Current function value: 0.155028\n",
      "         Iterations: 33\n",
      "         Function evaluations: 34\n",
      "         Gradient evaluations: 34\n"
     ]
    }
   ],
   "source": [
    "# normalize\n",
    "\n",
    "from sklearn.preprocessing import MinMaxScaler\n",
    "scaler = MinMaxScaler()\n",
    "X_scaled = scaler.fit_transform(original_X)\n",
    "X = np.insert(X_scaled, 0, 1, axis=1)\n",
    "initial_theta = np.zeros((X.shape[1],1))\n",
    "y = original_y.reshape(-1,1)\n",
    "Result = opt.minimize(fun = costFunction, x0 = initial_theta, args = (X, y),\n",
    "                      method = 'BFGS', jac = gradFunction, options={'maxiter': 400, 'disp': True})"
   ]
  },
  {
   "cell_type": "code",
   "execution_count": 19,
   "metadata": {},
   "outputs": [
    {
     "data": {
      "text/plain": [
       "array([[ 11.89135726],\n",
       "       [  8.51543909],\n",
       "       [-26.62727718]])"
      ]
     },
     "execution_count": 19,
     "metadata": {},
     "output_type": "execute_result"
    }
   ],
   "source": [
    "res_theta = Result.x\n",
    "res_theta = res_theta.reshape(-1, 1)\n",
    "res_theta"
   ]
  },
  {
   "cell_type": "code",
   "execution_count": 21,
   "metadata": {
    "scrolled": true
   },
   "outputs": [
    {
     "name": "stdout",
     "output_type": "stream",
     "text": [
      "Train Accuracy: 0.975000\n",
      "\n"
     ]
    }
   ],
   "source": [
    "p = predict(X_scaled, res_theta)\n",
    "predict_accuracy = np.equal(p.reshape(-1,1), y.reshape(-1,1))\n",
    "print('Train Accuracy: %f\\n'%(np.mean(predict_accuracy)));"
   ]
  },
  {
   "cell_type": "code",
   "execution_count": 22,
   "metadata": {
    "scrolled": true
   },
   "outputs": [
    {
     "data": {
      "text/plain": [
       "<matplotlib.text.Text at 0x97a5128>"
      ]
     },
     "execution_count": 22,
     "metadata": {},
     "output_type": "execute_result"
    },
    {
     "data": {
      "image/png": "[encoded data removed]",
      "text/plain": [
       "<matplotlib.figure.Figure at 0x9331208>"
      ]
     },
     "metadata": {},
     "output_type": "display_data"
    }
   ],
   "source": [
    "#decision bound\n",
    "decision_x = np.array([X[:,1].min(axis=0),X[:,1].max(axis=0)])\n",
    "decision_y = (-1/res_theta[2])*(res_theta[1]*decision_x + res_theta[0])\n",
    "decision = np.hstack([decision_x.reshape(-1,1),decision_y.reshape(-1,1)])\n",
    "decision = scaler.inverse_transform(decision)\n",
    "plt.plot(decision[:,0], decision[:,1], color=\"r\")\n",
    "\n",
    "plt.scatter(original_X[original_y==1][:,0],original_X[original_y==1][:,1], marker='+', label='y=1', s=100)\n",
    "plt.scatter(original_X[original_y==0][:,0],original_X[original_y==0][:,1], marker='.', label='y=0', s=100)\n",
    "plt.xlabel('feature 1')\n",
    "plt.ylabel('feature 2')\n",
    "plt.legend()\n",
    "plt.title('In original features')"
   ]
  },
  {
   "cell_type": "markdown",
   "metadata": {},
   "source": [
    "### Check with sklearn.linear_model.LinearRegression\n",
    "\n",
    "[http://scikit-learn.org/stable/modules/linear_model.html#logistic-regression](http://scikit-learn.org/stable/modules/linear_model.html#logistic-regression)\n",
    "\n",
    "** This class implements regularization! **"
   ]
  },
  {
   "cell_type": "code",
   "execution_count": 23,
   "metadata": {
    "collapsed": true
   },
   "outputs": [],
   "source": [
    "from sklearn import linear_model"
   ]
  },
  {
   "cell_type": "code",
   "execution_count": 24,
   "metadata": {},
   "outputs": [
    {
     "data": {
      "text/plain": [
       "LogisticRegression(C=1.0, class_weight=None, dual=False, fit_intercept=True,\n",
       "          intercept_scaling=1, max_iter=100, multi_class='ovr', n_jobs=1,\n",
       "          penalty='l2', random_state=None, solver='liblinear', tol=0.0001,\n",
       "          verbose=0, warm_start=False)"
      ]
     },
     "execution_count": 24,
     "metadata": {},
     "output_type": "execute_result"
    }
   ],
   "source": [
    "logi_reg = linear_model.LogisticRegression()\n",
    "logi_reg.fit(original_X, np.ravel(original_y))"
   ]
  },
  {
   "cell_type": "code",
   "execution_count": 25,
   "metadata": {},
   "outputs": [
    {
     "data": {
      "text/plain": [
       "array([[ 0.00443462,  0.99556538]])"
      ]
     },
     "execution_count": 25,
     "metadata": {},
     "output_type": "execute_result"
    }
   ],
   "source": [
    "logi_reg.predict_proba([[1510, 480]])"
   ]
  },
  {
   "cell_type": "markdown",
   "metadata": {},
   "source": [
    "intercept_ = $\\theta_0$\n",
    "\n",
    "coef_ = $\\theta_1, \\theta_2$"
   ]
  },
  {
   "cell_type": "code",
   "execution_count": 26,
   "metadata": {
    "scrolled": true
   },
   "outputs": [
    {
     "data": {
      "text/plain": [
       "array([ -5.68420753e-05])"
      ]
     },
     "execution_count": 26,
     "metadata": {},
     "output_type": "execute_result"
    }
   ],
   "source": [
    "logi_reg.intercept_"
   ]
  },
  {
   "cell_type": "code",
   "execution_count": 27,
   "metadata": {},
   "outputs": [
    {
     "data": {
      "text/plain": [
       "array([[ 0.08943547, -0.27007008]])"
      ]
     },
     "execution_count": 27,
     "metadata": {},
     "output_type": "execute_result"
    }
   ],
   "source": [
    "logi_reg.coef_ "
   ]
  },
  {
   "cell_type": "code",
   "execution_count": 28,
   "metadata": {},
   "outputs": [
    {
     "data": {
      "text/plain": [
       "0.96499999999999997"
      ]
     },
     "execution_count": 28,
     "metadata": {},
     "output_type": "execute_result"
    }
   ],
   "source": [
    "logi_reg.score(original_X, original_y)"
   ]
  },
  {
   "cell_type": "code",
   "execution_count": null,
   "metadata": {
    "collapsed": true
   },
   "outputs": [],
   "source": []
  },
  {
   "cell_type": "code",
   "execution_count": null,
   "metadata": {
    "collapsed": true
   },
   "outputs": [],
   "source": []
  }
 ],
 "metadata": {
  "kernelspec": {
   "display_name": "Python 3",
   "language": "python",
   "name": "python3"
  },
  "language_info": {
   "codemirror_mode": {
    "name": "ipython",
    "version": 3
   },
   "file_extension": ".py",
   "mimetype": "text/x-python",
   "name": "python",
   "nbconvert_exporter": "python",
   "pygments_lexer": "ipython3",
   "version": "3.6.1"
  }
 },
 "nbformat": 4,
 "nbformat_minor": 2
}
