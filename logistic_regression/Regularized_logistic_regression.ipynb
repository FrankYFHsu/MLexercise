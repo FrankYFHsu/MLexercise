{
 "cells": [
  {
   "cell_type": "markdown",
   "metadata": {},
   "source": [
    "# Regularized logistic regression\n",
    "\n",
    "## Binary classification problem $y\\in {0,1}$"
   ]
  },
  {
   "cell_type": "markdown",
   "metadata": {
    "collapsed": true
   },
   "source": [
    "### J cost function\n",
    "\n",
    "$$J(\\theta) = \\frac{1}{m}\\sum_{i=1}^m [-y^{(i)} \\log (h_{\\theta}(x^{(i)}))-(1-y^{(i)})\\log(1-h_{\\theta}(x^{(i)}))]+ \\frac{\\lambda}{2m}\\sum_{j=1}^{n}\\theta_j^2 $$\n",
    "\n",
    "* * *\n",
    "### The gradient of the cost\n",
    "\\begin{align}\n",
    "\\frac{\\partial}{\\partial \\theta_j}J(\\theta) & = \\frac{1}{m}\\sum_{i=1}^m (h_{\\theta}(x^{(i)})-y^{(i)})\\cdot x_j^{(i)} \\text{ for } j=0 \\\\\n",
    "\\frac{\\partial}{\\partial \\theta_j}J(\\theta) & = (\\frac{1}{m}\\sum_{i=1}^m (h_{\\theta}(x^{(i)})-y^{(i)})\\cdot x_j^{(i)})+ \\frac{\\lambda}{m}\\theta_j \\text{ for } j \\geq 1\n",
    "\\end{align}\n"
   ]
  },
  {
   "cell_type": "code",
   "execution_count": 1,
   "metadata": {
    "collapsed": true
   },
   "outputs": [],
   "source": [
    "import numpy as np\n",
    "import matplotlib.pyplot as plt\n",
    "%matplotlib inline"
   ]
  },
  {
   "cell_type": "code",
   "execution_count": 2,
   "metadata": {
    "collapsed": true
   },
   "outputs": [],
   "source": [
    "from sklearn.datasets import make_moons\n",
    "\n",
    "original_X, original_y = make_moons(n_samples = 200, noise=0.05, random_state=0)"
   ]
  },
  {
   "cell_type": "markdown",
   "metadata": {},
   "source": [
    "## Visualizing the data"
   ]
  },
  {
   "cell_type": "code",
   "execution_count": 3,
   "metadata": {},
   "outputs": [
    {
     "data": {
      "text/plain": [
       "<matplotlib.legend.Legend at 0x91caef0>"
      ]
     },
     "execution_count": 3,
     "metadata": {},
     "output_type": "execute_result"
    },
    {
     "data": {
      "image/png": "[encoded data removed]",
      "text/plain": [
       "<matplotlib.figure.Figure at 0x9020278>"
      ]
     },
     "metadata": {},
     "output_type": "display_data"
    }
   ],
   "source": [
    "plt.scatter(original_X[original_y==1][:,0], original_X[original_y==1][:,1], marker='+', label='y=1', s=100)\n",
    "plt.scatter(original_X[original_y==0][:,0], original_X[original_y==0][:,1], marker='.', label='y=0', s=100)\n",
    "plt.xlabel('feature 1')\n",
    "plt.ylabel('feature 2')\n",
    "plt.legend()"
   ]
  },
  {
   "cell_type": "code",
   "execution_count": 4,
   "metadata": {
    "collapsed": true
   },
   "outputs": [],
   "source": [
    "def mapFeature(X1, X2, degree=8):\n",
    "    X1=X1.reshape(-1,1)\n",
    "    X2=X2.reshape(-1,1)\n",
    "    out = np.ones_like(X1)\n",
    "    \n",
    "    for i in range(1, degree+1):\n",
    "        for j in range(0, i+1):\n",
    "            out = np.hstack((out, (X1**(i-j)) * (X2** j)))\n",
    "    return out"
   ]
  },
  {
   "cell_type": "code",
   "execution_count": 5,
   "metadata": {
    "collapsed": true
   },
   "outputs": [],
   "source": [
    "def sigmoid(z):\n",
    "    return 1/(1+np.exp(-1*z))\n",
    "\n",
    "def compute_cost(X_values, y_values, theta, lambda_value):\n",
    "    m = len(X_values)\n",
    "    h = sigmoid(X_values.dot(theta))\n",
    "    \n",
    "    y1 = y_values[y_values==1]\n",
    "    y0 = y_values[y_values==0]\n",
    "    h1 = h[y_values==1]\n",
    "    h0 = h[y_values==0]\n",
    "        \n",
    "    cost1 = -1*y1.T.dot(np.log(h1))\n",
    "    cost0 = -((1-y0).T).dot(np.log(1-h0))    \n",
    "    cost = (cost1+cost0)/m\n",
    "    newtheta = np.copy(theta)\n",
    "    newtheta[0]=0\n",
    "    cost = cost +  lambda_value* (newtheta.T.dot(newtheta))/(2*m)\n",
    "    grad = X_values.T.dot(h-y_values)/m\n",
    "    grad = grad + lambda_value* newtheta/m\n",
    "    return cost, grad\n",
    "\n",
    "def compute_cost_backup(X_values, y_values, theta, lambda_value):\n",
    "    m = len(X_values)\n",
    "    h = sigmoid(X_values.dot(theta))\n",
    "    cost1 = -1*y_values.T.dot(np.log(h))\n",
    "    cost0 = -((1-y_values).T).dot(np.log(1-h))    \n",
    "    cost = (cost1+cost0)/m\n",
    "    #cost0 could be NaN..    \n",
    "    newtheta = np.copy(theta)\n",
    "    newtheta[0]=0\n",
    "    cost = cost +  lambda_value* (newtheta.T.dot(newtheta))/(2*m)\n",
    "    grad = X_values.T.dot(h-y_values)/m\n",
    "    grad = grad + lambda_value* newtheta/m\n",
    "    return cost, grad"
   ]
  },
  {
   "cell_type": "code",
   "execution_count": 6,
   "metadata": {
    "collapsed": true
   },
   "outputs": [],
   "source": [
    "X = mapFeature(original_X[:,0], original_X[:,1])\n",
    "y = original_y.reshape(-1,1)\n",
    "initial_theta = np.zeros((X.shape[1],1))\n",
    "Lambda = 1"
   ]
  },
  {
   "cell_type": "code",
   "execution_count": 7,
   "metadata": {
    "scrolled": true
   },
   "outputs": [
    {
     "name": "stdout",
     "output_type": "stream",
     "text": [
      "[[ 0.69314718]]\n"
     ]
    },
    {
     "data": {
      "text/plain": [
       "array([[ 0.        ],\n",
       "       [-0.25083155],\n",
       "       [ 0.19049214],\n",
       "       [-0.25009565],\n",
       "       [ 0.03144349]])"
      ]
     },
     "execution_count": 7,
     "metadata": {},
     "output_type": "execute_result"
    }
   ],
   "source": [
    "cost, grad = compute_cost(X, y, initial_theta, Lambda)\n",
    "print(cost)\n",
    "grad[0:5]"
   ]
  },
  {
   "cell_type": "code",
   "execution_count": 8,
   "metadata": {
    "collapsed": true
   },
   "outputs": [],
   "source": [
    "import scipy.optimize as opt"
   ]
  },
  {
   "cell_type": "code",
   "execution_count": 9,
   "metadata": {
    "collapsed": true
   },
   "outputs": [],
   "source": [
    "def costFunction(theta, X_values, y_values, lambda_value):\n",
    "    theta = theta.reshape(-1, 1)\n",
    "    cost, grad = compute_cost(X_values, y_values, theta, lambda_value)\n",
    "    return cost\n",
    "\n",
    "def gradFunction(theta, X_values, y_values, lambda_value):\n",
    "    theta = theta.reshape(-1, 1)\n",
    "    cost, grad = compute_cost(X_values, y_values, theta, lambda_value)\n",
    "    grad = grad.reshape(-1)\n",
    "    return grad"
   ]
  },
  {
   "cell_type": "code",
   "execution_count": 10,
   "metadata": {},
   "outputs": [
    {
     "data": {
      "text/plain": [
       "(45, 1)"
      ]
     },
     "execution_count": 10,
     "metadata": {},
     "output_type": "execute_result"
    }
   ],
   "source": [
    "initial_theta.shape"
   ]
  },
  {
   "cell_type": "code",
   "execution_count": 11,
   "metadata": {
    "scrolled": false
   },
   "outputs": [
    {
     "name": "stdout",
     "output_type": "stream",
     "text": [
      "Optimization terminated successfully.\n",
      "         Current function value: 0.113606\n",
      "         Iterations: 72\n",
      "         Function evaluations: 75\n",
      "         Gradient evaluations: 75\n"
     ]
    }
   ],
   "source": [
    "Result = opt.minimize(fun = costFunction, x0 = initial_theta, args = (X, y, 1), method = 'BFGS', jac = gradFunction, options={'maxiter': 400, 'disp': True})"
   ]
  },
  {
   "cell_type": "code",
   "execution_count": 12,
   "metadata": {},
   "outputs": [
    {
     "data": {
      "text/plain": [
       "array([ 2.36335043,  0.28617667, -2.18000379, -2.19753758, -0.63852643,\n",
       "       -0.88230323, -0.08893285, -1.46307422,  0.25752527, -1.1223348 ,\n",
       "       -1.58998353, -0.50852388, -0.30465723, -0.09158885, -0.76058731,\n",
       "        0.07084519, -1.02300952,  0.21359501, -0.42415674,  0.06901775,\n",
       "       -0.71692088, -0.89113676, -0.47260113, -0.06265974, -0.08210183,\n",
       "       -0.17334651, -0.00893914, -0.57385869,  0.69143089, -0.79586347,\n",
       "        0.22957426, -0.24046586,  0.05315399, -0.1783278 ,  0.02279621,\n",
       "       -0.51250543,  0.36115717, -0.37745788,  0.09518659, -0.08028836,\n",
       "       -0.04734855, -0.01379521, -0.1065424 ,  0.00351779, -0.4397057 ])"
      ]
     },
     "execution_count": 12,
     "metadata": {},
     "output_type": "execute_result"
    }
   ],
   "source": [
    "Result.x"
   ]
  },
  {
   "cell_type": "code",
   "execution_count": 13,
   "metadata": {
    "collapsed": true
   },
   "outputs": [],
   "source": [
    "def predict_with_one(X_values, theta):\n",
    "    return sigmoid(X_values.dot(theta))>=0.5"
   ]
  },
  {
   "cell_type": "code",
   "execution_count": 14,
   "metadata": {},
   "outputs": [
    {
     "data": {
      "text/plain": [
       "(200, 45)"
      ]
     },
     "execution_count": 14,
     "metadata": {},
     "output_type": "execute_result"
    }
   ],
   "source": [
    "X.shape"
   ]
  },
  {
   "cell_type": "code",
   "execution_count": 15,
   "metadata": {},
   "outputs": [
    {
     "data": {
      "text/plain": [
       "(45,)"
      ]
     },
     "execution_count": 15,
     "metadata": {},
     "output_type": "execute_result"
    }
   ],
   "source": [
    "Result.x.shape"
   ]
  },
  {
   "cell_type": "code",
   "execution_count": 16,
   "metadata": {
    "scrolled": true
   },
   "outputs": [
    {
     "name": "stdout",
     "output_type": "stream",
     "text": [
      "Train Accuracy: 100.000000\n",
      "\n"
     ]
    }
   ],
   "source": [
    "p = predict_with_one(X, Result.x.reshape(-1,1))\n",
    "predict_right = np.equal(p.reshape(-1,1), y.reshape(-1,1))\n",
    "print('Train Accuracy: %f\\n'%(np.mean(predict_right)*100));"
   ]
  },
  {
   "cell_type": "code",
   "execution_count": 17,
   "metadata": {},
   "outputs": [
    {
     "data": {
      "text/plain": [
       "<matplotlib.text.Text at 0x9291400>"
      ]
     },
     "execution_count": 17,
     "metadata": {},
     "output_type": "execute_result"
    },
    {
     "data": {
      "image/png": "[encoded data removed]",
      "text/plain": [
       "<matplotlib.figure.Figure at 0x9248e10>"
      ]
     },
     "metadata": {},
     "output_type": "display_data"
    }
   ],
   "source": [
    "plt.scatter(original_X[original_y==1][:,0], original_X[original_y==1][:,1], marker='+', label='y=1', s=100)\n",
    "plt.scatter(original_X[original_y==0][:,0], original_X[original_y==0][:,1], marker='.', label='y=0', s=100)\n",
    "plt.legend()\n",
    "plt.title('lambda = {0}'.format(Lambda))\n",
    "# Here is the grid range\n",
    "u = np.linspace(-1, 2, 50)\n",
    "v = np.linspace(-0.75, 1, 50)\n",
    "\n",
    "# Evaluate z = theta*x over the grid\n",
    "z = np.zeros([len(u),len(v)])\n",
    "#Fill out J_vals\n",
    "for i, e in enumerate(u):\n",
    "    for j, e2 in enumerate(v):        \n",
    "        z[i,j] = mapFeature(e,e2).dot(Result.x.reshape(-1,1))\n",
    "    \n",
    "plt.contour(u, v, z.T, 0)\n",
    "plt.xlabel('feature 1')\n",
    "plt.ylabel('feature 2')"
   ]
  },
  {
   "cell_type": "code",
   "execution_count": 18,
   "metadata": {
    "collapsed": true
   },
   "outputs": [],
   "source": [
    "def drawDifferentLambda(Lambda=1):\n",
    "    result = opt.minimize(fun = costFunction, x0 = initial_theta, args = (X, y, Lambda), \n",
    "                          method = 'BFGS', jac = gradFunction, options={'maxiter': 400, 'disp': True})\n",
    "\n",
    "    plt.scatter(original_X[original_y==1][:,0], original_X[original_y==1][:,1], marker='+', label='y=1', s=100)\n",
    "    plt.scatter(original_X[original_y==0][:,0], original_X[original_y==0][:,1], marker='.', label='y=0', s=100)\n",
    "    plt.legend()\n",
    "    plt.title('lambda = {0}'.format(Lambda))\n",
    "    # Here is the grid range\n",
    "    u = np.linspace(-1, 2, 50)\n",
    "    v = np.linspace(-0.75, 1, 50)\n",
    "\n",
    "    # Evaluate z = theta*x over the grid\n",
    "    z = np.zeros([len(u),len(v)])\n",
    "    #Fill out J_vals\n",
    "    for i, e in enumerate(u):\n",
    "        for j, e2 in enumerate(v):        \n",
    "            z[i,j] = mapFeature(e,e2).dot(result.x)\n",
    "    \n",
    "    \n",
    "    plt.contour(u, v, z.T, 0 )\n",
    "    plt.xlabel('feature 1')\n",
    "    plt.ylabel('feature 2')"
   ]
  },
  {
   "cell_type": "code",
   "execution_count": 19,
   "metadata": {
    "scrolled": true
   },
   "outputs": [
    {
     "name": "stdout",
     "output_type": "stream",
     "text": [
      "Optimization terminated successfully.\n",
      "         Current function value: 0.000003\n",
      "         Iterations: 73\n",
      "         Function evaluations: 83\n",
      "         Gradient evaluations: 83\n"
     ]
    },
    {
     "data": {
      "image/png": "[encoded data removed]",
      "text/plain": [
       "<matplotlib.figure.Figure at 0x9298ac8>"
      ]
     },
     "metadata": {},
     "output_type": "display_data"
    }
   ],
   "source": [
    "drawDifferentLambda(Lambda=0)"
   ]
  },
  {
   "cell_type": "code",
   "execution_count": 20,
   "metadata": {},
   "outputs": [
    {
     "name": "stdout",
     "output_type": "stream",
     "text": [
      "Optimization terminated successfully.\n",
      "         Current function value: 0.421562\n",
      "         Iterations: 23\n",
      "         Function evaluations: 25\n",
      "         Gradient evaluations: 25\n"
     ]
    },
    {
     "data": {
      "image/png": "[encoded data removed]",
      "text/plain": [
       "<matplotlib.figure.Figure at 0x9a163c8>"
      ]
     },
     "metadata": {},
     "output_type": "display_data"
    }
   ],
   "source": [
    "drawDifferentLambda(Lambda=50)"
   ]
  },
  {
   "cell_type": "markdown",
   "metadata": {},
   "source": [
    "### Check with sklearn.linear_model.LinearRegression\n",
    "\n",
    "Note that the parameter $C$ is proportional to the inverse of regularization strength $(C\\propto 1/\\lambda)$"
   ]
  },
  {
   "cell_type": "code",
   "execution_count": 21,
   "metadata": {},
   "outputs": [
    {
     "data": {
      "text/plain": [
       "LogisticRegression(C=1.0, class_weight=None, dual=False, fit_intercept=True,\n",
       "          intercept_scaling=1, max_iter=100, multi_class='ovr', n_jobs=1,\n",
       "          penalty='l2', random_state=None, solver='liblinear', tol=0.0001,\n",
       "          verbose=0, warm_start=False)"
      ]
     },
     "execution_count": 21,
     "metadata": {},
     "output_type": "execute_result"
    }
   ],
   "source": [
    "from sklearn import linear_model\n",
    "logi_reg = linear_model.LogisticRegression(C=1.0)\n",
    "logi_reg.fit(X, np.ravel(y))"
   ]
  },
  {
   "cell_type": "code",
   "execution_count": 22,
   "metadata": {},
   "outputs": [
    {
     "data": {
      "text/plain": [
       "1.0"
      ]
     },
     "execution_count": 22,
     "metadata": {},
     "output_type": "execute_result"
    }
   ],
   "source": [
    "logi_reg.score(X, y)"
   ]
  },
  {
   "cell_type": "markdown",
   "metadata": {},
   "source": [
    "### We can use PolynomialFeatures provided by sklearn.preprocessing\n",
    "http://scikit-learn.org/stable/modules/linear_model.html#polynomial-regression-extending-linear-models-with-basis-functions"
   ]
  },
  {
   "cell_type": "code",
   "execution_count": 28,
   "metadata": {},
   "outputs": [
    {
     "data": {
      "text/plain": [
       "1.0"
      ]
     },
     "execution_count": 28,
     "metadata": {},
     "output_type": "execute_result"
    }
   ],
   "source": [
    "from sklearn.preprocessing import PolynomialFeatures\n",
    "poly = PolynomialFeatures(degree=5)\n",
    "X2 = poly.fit_transform(original_X)\n",
    "\n",
    "logi_reg = linear_model.LogisticRegression()\n",
    "logi_reg.fit(X2, np.ravel(y))\n",
    "logi_reg.score(X2, y)"
   ]
  },
  {
   "cell_type": "code",
   "execution_count": null,
   "metadata": {
    "collapsed": true
   },
   "outputs": [],
   "source": []
  }
 ],
 "metadata": {
  "kernelspec": {
   "display_name": "Python 3",
   "language": "python",
   "name": "python3"
  },
  "language_info": {
   "codemirror_mode": {
    "name": "ipython",
    "version": 3
   },
   "file_extension": ".py",
   "mimetype": "text/x-python",
   "name": "python",
   "nbconvert_exporter": "python",
   "pygments_lexer": "ipython3",
   "version": "3.6.1"
  }
 },
 "nbformat": 4,
 "nbformat_minor": 2
}
