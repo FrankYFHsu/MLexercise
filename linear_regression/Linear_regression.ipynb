{
 "cells": [
  {
   "cell_type": "markdown",
   "metadata": {},
   "source": [
    "# Linear regression with one variable"
   ]
  },
  {
   "cell_type": "markdown",
   "metadata": {},
   "source": [
    "### Hypothesis function $h_\\theta(x)$\n",
    "\n",
    "$$h_\\theta(x)=\\theta \\cdot x =\\theta^T x = \\theta_0 + \\theta_1 x_1$$\n",
    "\n",
    "\n",
    "### J cost function\n",
    "\n",
    "$$J(\\theta) = \\frac{1}{2m}\\sum_{i=1}^m (h_{\\theta}(x^{(i)})-y^{(i)})^2 $$\n",
    "\n",
    "vectorized version:\n",
    "$$ \\text{if } X \\in \\mathbb{R}^{m\\times n} \n",
    "\\text{, and }\\theta \\in \\mathbb{R}^m \n",
    "$$\n",
    "$$J(\\theta) = \\frac{1}{2m}(X\\theta -\\vec{y})^T (X\\theta -\\vec{y}) $$\n",
    "\n",
    "### the gradient of the cost\n",
    "\n",
    "$$ \\frac{\\partial}{\\partial \\theta_j}J(\\theta) = \\frac{1}{m}\\sum_{i=1}^m (h_{\\theta}(x^{(i)})-y^{(i)})\\cdot x_j^{(i)}$$\n",
    "\n",
    "vectorized version:\n",
    "$$\\frac{\\partial}{\\partial \\theta_j}J(\\theta) = X^T (X\\theta -\\vec{y}) $$\n",
    "\n",
    "### Gradient descent\n",
    "repeat until convergence:\n",
    "$$\\theta_j = \\theta_j - \\alpha \\frac{1}{m}\\sum_{i=1}^m (h_{\\theta}(x^{(i)})-y^{(i)}) \\cdot x_j^{(i)} \\text{ for } j=1,2,...m$$"
   ]
  },
  {
   "cell_type": "code",
   "execution_count": 1,
   "metadata": {},
   "outputs": [],
   "source": [
    "import numpy as np\n",
    "import matplotlib.pyplot as plt\n",
    "%matplotlib inline\n",
    "from sklearn import datasets"
   ]
  },
  {
   "cell_type": "markdown",
   "metadata": {},
   "source": [
    "## Generate toy datasets"
   ]
  },
  {
   "cell_type": "code",
   "execution_count": 2,
   "metadata": {},
   "outputs": [],
   "source": [
    "original_X, original_y = datasets.make_regression(n_samples=200, n_features=1, n_informative=1, bias=20, noise=25)"
   ]
  },
  {
   "cell_type": "code",
   "execution_count": 3,
   "metadata": {},
   "outputs": [
    {
     "data": {
      "text/plain": [
       "(200, 1)"
      ]
     },
     "execution_count": 3,
     "metadata": {},
     "output_type": "execute_result"
    }
   ],
   "source": [
    "original_X.shape"
   ]
  },
  {
   "cell_type": "code",
   "execution_count": 4,
   "metadata": {},
   "outputs": [
    {
     "data": {
      "text/plain": [
       "(200,)"
      ]
     },
     "execution_count": 4,
     "metadata": {},
     "output_type": "execute_result"
    }
   ],
   "source": [
    "original_y.shape"
   ]
  },
  {
   "cell_type": "markdown",
   "metadata": {},
   "source": [
    "## Plotting the data"
   ]
  },
  {
   "cell_type": "code",
   "execution_count": 5,
   "metadata": {
    "scrolled": true
   },
   "outputs": [
    {
     "data": {
      "text/plain": [
       "<matplotlib.collections.PathCollection at 0x90b8588>"
      ]
     },
     "execution_count": 5,
     "metadata": {},
     "output_type": "execute_result"
    },
    {
     "data": {
      "image/png": "[encoded data removed]",
      "text/plain": [
       "<matplotlib.figure.Figure at 0x90039b0>"
      ]
     },
     "metadata": {},
     "output_type": "display_data"
    }
   ],
   "source": [
    "plt.ylabel('y')\n",
    "plt.xlabel('x')\n",
    "plt.scatter(original_X, original_y, marker='+')"
   ]
  },
  {
   "cell_type": "code",
   "execution_count": 6,
   "metadata": {
    "scrolled": true
   },
   "outputs": [
    {
     "data": {
      "text/plain": [
       "(200, 2)"
      ]
     },
     "execution_count": 6,
     "metadata": {},
     "output_type": "execute_result"
    }
   ],
   "source": [
    "X = np.insert(original_X, 0, 1, axis=1)\n",
    "y = original_y.reshape(-1,1)\n",
    "X.shape"
   ]
  },
  {
   "cell_type": "code",
   "execution_count": 7,
   "metadata": {
    "scrolled": true
   },
   "outputs": [
    {
     "data": {
      "text/plain": [
       "array([[ 1.        , -0.44852445],\n",
       "       [ 1.        , -0.28499781],\n",
       "       [ 1.        , -0.36879105],\n",
       "       [ 1.        ,  0.19914456],\n",
       "       [ 1.        , -0.16986356],\n",
       "       [ 1.        ,  0.34808734],\n",
       "       [ 1.        , -1.07810052],\n",
       "       [ 1.        ,  0.14256456],\n",
       "       [ 1.        ,  0.2755481 ],\n",
       "       [ 1.        ,  1.12730781]])"
      ]
     },
     "execution_count": 7,
     "metadata": {},
     "output_type": "execute_result"
    }
   ],
   "source": [
    "X[0:10,:]"
   ]
  },
  {
   "cell_type": "code",
   "execution_count": 8,
   "metadata": {
    "collapsed": true
   },
   "outputs": [],
   "source": [
    "initial_theta = np.zeros((X.shape[1],1))"
   ]
  },
  {
   "cell_type": "code",
   "execution_count": 9,
   "metadata": {},
   "outputs": [
    {
     "data": {
      "text/plain": [
       "(2, 1)"
      ]
     },
     "execution_count": 9,
     "metadata": {},
     "output_type": "execute_result"
    }
   ],
   "source": [
    "initial_theta.shape"
   ]
  },
  {
   "cell_type": "code",
   "execution_count": 10,
   "metadata": {
    "collapsed": true
   },
   "outputs": [],
   "source": [
    "learning_rate = 0.01\n",
    "num_iterations = 1500"
   ]
  },
  {
   "cell_type": "markdown",
   "metadata": {},
   "source": [
    "## Gradient Descent"
   ]
  },
  {
   "cell_type": "code",
   "execution_count": 11,
   "metadata": {
    "collapsed": true
   },
   "outputs": [],
   "source": [
    "def compute_cost(X_values, y_values, theta):\n",
    "    m = len(X_values)\n",
    "    h = X_values.dot(theta)\n",
    "    return np.dot((h-y_values).T,h-y_values)/(2*m)\n",
    "    #return np.sum((h - y_values) **2)/(2*m)\n",
    "    \n",
    "def gradient_descent(X_values, y_values, theta, learningRate, iterations):\n",
    "    m = X_values.shape[0]\n",
    "    n = X_values.shape[1]\n",
    "    cost = np.zeros(iterations)\n",
    "    for i in range(iterations):\n",
    "        h = X_values.dot(theta)\n",
    "        delta = np.dot(X_values.T, (h - y_values))/m\n",
    "        theta = theta -learningRate*delta\n",
    "        cost[i] = compute_cost(X_values, y_values, theta)\n",
    "                \n",
    "    return theta, cost\n",
    "\n",
    "def predict(original_X_values, theta):\n",
    "    X_values = np.insert(original_X_values, 0, 1, axis=1)\n",
    "    return X_values.dot(theta)"
   ]
  },
  {
   "cell_type": "code",
   "execution_count": 12,
   "metadata": {},
   "outputs": [
    {
     "data": {
      "text/plain": [
       "array([[ 3754.78095983]])"
      ]
     },
     "execution_count": 12,
     "metadata": {},
     "output_type": "execute_result"
    }
   ],
   "source": [
    "J = compute_cost(X, y, initial_theta)\n",
    "J"
   ]
  },
  {
   "cell_type": "code",
   "execution_count": 13,
   "metadata": {},
   "outputs": [],
   "source": [
    "theta, j_cost = gradient_descent(X, y, initial_theta, learning_rate, num_iterations)"
   ]
  },
  {
   "cell_type": "code",
   "execution_count": 14,
   "metadata": {},
   "outputs": [
    {
     "data": {
      "text/plain": [
       "array([[ 17.91802019],\n",
       "       [ 85.74507428]])"
      ]
     },
     "execution_count": 14,
     "metadata": {},
     "output_type": "execute_result"
    }
   ],
   "source": [
    "theta"
   ]
  },
  {
   "cell_type": "code",
   "execution_count": 15,
   "metadata": {},
   "outputs": [
    {
     "name": "stdout",
     "output_type": "stream",
     "text": [
      "275.29513629\n"
     ]
    }
   ],
   "source": [
    "print(j_cost[-1])"
   ]
  },
  {
   "cell_type": "code",
   "execution_count": 16,
   "metadata": {},
   "outputs": [
    {
     "data": {
      "text/plain": [
       "[<matplotlib.lines.Line2D at 0x94d0358>]"
      ]
     },
     "execution_count": 16,
     "metadata": {},
     "output_type": "execute_result"
    },
    {
     "data": {
      "image/png": "[encoded data removed]",
      "text/plain": [
       "<matplotlib.figure.Figure at 0x92421d0>"
      ]
     },
     "metadata": {},
     "output_type": "display_data"
    }
   ],
   "source": [
    "plt.xlabel('Number of iterations');\n",
    "plt.ylabel('Cost J');\n",
    "plt.plot(range(num_iterations), j_cost)"
   ]
  },
  {
   "cell_type": "code",
   "execution_count": 17,
   "metadata": {},
   "outputs": [
    {
     "data": {
      "text/plain": [
       "[<matplotlib.lines.Line2D at 0x952a668>]"
      ]
     },
     "execution_count": 17,
     "metadata": {},
     "output_type": "execute_result"
    },
    {
     "data": {
      "image/png": "[encoded data removed]",
      "text/plain": [
       "<matplotlib.figure.Figure at 0x952a518>"
      ]
     },
     "metadata": {},
     "output_type": "display_data"
    }
   ],
   "source": [
    "plt.ylabel('y')\n",
    "plt.xlabel('x')\n",
    "plt.scatter(original_X, original_y, marker='x')\n",
    "plt.plot(original_X, predict(original_X, theta), color='C1')"
   ]
  },
  {
   "cell_type": "markdown",
   "metadata": {},
   "source": [
    "## By sklearn.linear_model.LinearRegression"
   ]
  },
  {
   "cell_type": "code",
   "execution_count": 18,
   "metadata": {
    "collapsed": true
   },
   "outputs": [],
   "source": [
    "from sklearn import linear_model"
   ]
  },
  {
   "cell_type": "code",
   "execution_count": 19,
   "metadata": {},
   "outputs": [
    {
     "data": {
      "text/plain": [
       "LinearRegression(copy_X=True, fit_intercept=True, n_jobs=1, normalize=False)"
      ]
     },
     "execution_count": 19,
     "metadata": {},
     "output_type": "execute_result"
    }
   ],
   "source": [
    "linear_reg = linear_model.LinearRegression()\n",
    "linear_reg.fit(original_X, original_y)"
   ]
  },
  {
   "cell_type": "code",
   "execution_count": 20,
   "metadata": {},
   "outputs": [
    {
     "data": {
      "text/plain": [
       "[<matplotlib.lines.Line2D at 0x984b4a8>]"
      ]
     },
     "execution_count": 20,
     "metadata": {},
     "output_type": "execute_result"
    },
    {
     "data": {
      "image/png": "[encoded data removed]",
      "text/plain": [
       "<matplotlib.figure.Figure at 0x984b4e0>"
      ]
     },
     "metadata": {},
     "output_type": "display_data"
    }
   ],
   "source": [
    "plt.ylabel('y')\n",
    "plt.xlabel('x')\n",
    "plt.scatter(original_X, original_y, marker='x')\n",
    "#plt.plot(original_X, predict(original_X, theta), color='C1')\n",
    "plt.plot(original_X, linear_reg.predict(original_X), color='C2')"
   ]
  },
  {
   "cell_type": "code",
   "execution_count": 21,
   "metadata": {},
   "outputs": [
    {
     "name": "stdout",
     "output_type": "stream",
     "text": [
      "For x = 1, we predict y = 103.6630944665511 \n",
      "For x = 1, sklearn predicts y = 103.66325867831182 \n"
     ]
    }
   ],
   "source": [
    "our_predict = predict([[1]], theta)\n",
    "sklearn_predict = linear_reg.predict([[1]])\n",
    "print(\"For x = 1, we predict y = {0} \".format(our_predict.flat[0]))\n",
    "print(\"For x = 1, sklearn predicts y = {0} \".format(sklearn_predict.flat[0]))"
   ]
  },
  {
   "cell_type": "markdown",
   "metadata": {},
   "source": [
    "## Visualizing J(theta_0, theta_1)"
   ]
  },
  {
   "cell_type": "code",
   "execution_count": 22,
   "metadata": {},
   "outputs": [
    {
     "data": {
      "text/plain": [
       "<matplotlib.collections.PathCollection at 0x99eee48>"
      ]
     },
     "execution_count": 22,
     "metadata": {},
     "output_type": "execute_result"
    },
    {
     "data": {
      "image/png": "[encoded data removed]",
      "text/plain": [
       "<matplotlib.figure.Figure at 0x98ff8d0>"
      ]
     },
     "metadata": {},
     "output_type": "display_data"
    }
   ],
   "source": [
    "#Grid over which we will calculate J\n",
    "theta0_vals = np.linspace(-150, 150, 100)\n",
    "theta1_vals = np.linspace(-100, 300, 100)\n",
    "\n",
    "#initialize J_vals to a matrix of 0's\n",
    "J_vals = np.zeros([len(theta0_vals), len(theta1_vals)])\n",
    "#Fill out J_vals\n",
    "for i, e in enumerate(theta0_vals):\n",
    "    for j, e2 in enumerate(theta1_vals):\n",
    "        t = np.array([[e],[e2]])\n",
    "        J_vals[i,j] = compute_cost(X, y, t)\n",
    "\n",
    "plt.contour(theta0_vals, theta1_vals, J_vals.T, np.logspace(-2, 5, 20))\n",
    "plt.xlabel('theta_0')\n",
    "plt.ylabel('theta_1')\n",
    "plt.scatter(theta.flat[0], theta.flat[1], color='red')"
   ]
  },
  {
   "cell_type": "code",
   "execution_count": 23,
   "metadata": {
    "scrolled": true
   },
   "outputs": [
    {
     "data": {
      "text/plain": [
       "<mpl_toolkits.mplot3d.art3d.Poly3DCollection at 0xb235198>"
      ]
     },
     "execution_count": 23,
     "metadata": {},
     "output_type": "execute_result"
    },
    {
     "data": {
      "image/png": "[encoded data removed]",
      "text/plain": [
       "<matplotlib.figure.Figure at 0x9228b38>"
      ]
     },
     "metadata": {},
     "output_type": "display_data"
    }
   ],
   "source": [
    "from mpl_toolkits.mplot3d import Axes3D\n",
    "from matplotlib import cm\n",
    "\n",
    "fig = plt.figure()\n",
    "ax = fig.gca(projection='3d')\n",
    "theta0_vals_mesh, theta1_vals_mesh = np.meshgrid(theta0_vals, theta1_vals)\n",
    "\n",
    "ax.plot_surface(theta0_vals_mesh, theta1_vals_mesh, J_vals, cmap=cm.coolwarm, linewidth=0, antialiased=False)"
   ]
  },
  {
   "cell_type": "markdown",
   "metadata": {},
   "source": [
    "# Linear regression with multiple variables"
   ]
  },
  {
   "cell_type": "markdown",
   "metadata": {},
   "source": [
    "## Using the boston house-prices dataset in scikit-learn"
   ]
  },
  {
   "cell_type": "code",
   "execution_count": 24,
   "metadata": {},
   "outputs": [
    {
     "name": "stdout",
     "output_type": "stream",
     "text": [
      "(506, 13)\n",
      "(506,)\n",
      "Boston House Prices dataset\n",
      "===========================\n",
      "\n",
      "Notes\n",
      "------\n",
      "Data Set Characteristics:  \n",
      "\n",
      "    :Number of Instances: 506 \n",
      "\n",
      "    :Number of Attributes: 13 numeric/categorical predictive\n",
      "    \n",
      "    :Median Value (attribute 14) is usually the target\n",
      "\n",
      "    :Attribute Information (in order):\n",
      "        - CRIM     per capita crime rate by town\n",
      "        - ZN       proportion of residential land zoned for lots over 25,000 sq.ft.\n",
      "        - INDUS    proportion of non-retail business acres per town\n",
      "        - CHAS     Charles River dummy variable (= 1 if tract bounds river; 0 otherwise)\n",
      "        - NOX      nitric oxides concentration (parts per 10 million)\n",
      "        - RM       average number of rooms per dwelling\n",
      "        - AGE      proportion of owner-occupied units built prior to 1940\n",
      "        - DIS      weighted distances to five Boston employment centres\n",
      "        - RAD      index of accessibility to radial highways\n",
      "        - TAX      full-value property-tax rate per $10,000\n",
      "        - PTRATIO  pupil-teacher ratio by town\n",
      "        - B        1000(Bk - 0.63)^2 where Bk is the proportion of blacks by town\n",
      "        - LSTAT    % lower status of the population\n",
      "        - MEDV     Median value of owner-occupied homes in $1000's\n",
      "\n",
      "    :Missing Attribute Values: None\n",
      "\n",
      "    :Creator: Harrison, D. and Rubinfeld, D.L.\n",
      "\n",
      "This is a copy of UCI ML housing dataset.\n",
      "http://archive.ics.uci.edu/ml/datasets/Housing\n",
      "\n",
      "\n",
      "This dataset was taken from the StatLib library which is maintained at Carnegie Mellon University.\n",
      "\n",
      "The Boston house-price data of Harrison, D. and Rubinfeld, D.L. 'Hedonic\n",
      "prices and the demand for clean air', J. Environ. Economics & Management,\n",
      "vol.5, 81-102, 1978.   Used in Belsley, Kuh & Welsch, 'Regression diagnostics\n",
      "...', Wiley, 1980.   N.B. Various transformations are used in the table on\n",
      "pages 244-261 of the latter.\n",
      "\n",
      "The Boston house-price data has been used in many machine learning papers that address regression\n",
      "problems.   \n",
      "     \n",
      "**References**\n",
      "\n",
      "   - Belsley, Kuh & Welsch, 'Regression diagnostics: Identifying Influential Data and Sources of Collinearity', Wiley, 1980. 244-261.\n",
      "   - Quinlan,R. (1993). Combining Instance-Based and Model-Based Learning. In Proceedings on the Tenth International Conference of Machine Learning, 236-243, University of Massachusetts, Amherst. Morgan Kaufmann.\n",
      "   - many more! (see http://archive.ics.uci.edu/ml/datasets/Housing)\n",
      "\n"
     ]
    }
   ],
   "source": [
    "boston = datasets.load_boston()\n",
    "print(boston.data.shape)\n",
    "print(boston.target.shape)\n",
    "print(boston.DESCR)"
   ]
  },
  {
   "cell_type": "code",
   "execution_count": 25,
   "metadata": {
    "collapsed": true
   },
   "outputs": [],
   "source": [
    "from sklearn.utils import shuffle"
   ]
  },
  {
   "cell_type": "code",
   "execution_count": 26,
   "metadata": {},
   "outputs": [
    {
     "data": {
      "text/plain": [
       "(350, 13)"
      ]
     },
     "execution_count": 26,
     "metadata": {},
     "output_type": "execute_result"
    }
   ],
   "source": [
    "original_X, original_y = shuffle(boston.data, boston.target, random_state=1)\n",
    "offset = 350 # 70% training, 30% test\n",
    "X_train, y_train = original_X[:offset], original_y[:offset]\n",
    "X_test, y_test = original_X[offset:], original_y[offset:]\n",
    "X_train.shape"
   ]
  },
  {
   "cell_type": "code",
   "execution_count": 27,
   "metadata": {},
   "outputs": [
    {
     "data": {
      "text/plain": [
       "(350,)"
      ]
     },
     "execution_count": 27,
     "metadata": {},
     "output_type": "execute_result"
    }
   ],
   "source": [
    "y_train.shape"
   ]
  },
  {
   "cell_type": "code",
   "execution_count": 28,
   "metadata": {
    "collapsed": true
   },
   "outputs": [],
   "source": [
    "def featureNormalize(Xvals):\n",
    "    mean = np.mean(Xvals, axis=0)\n",
    "    std = np.std(Xvals, axis=0)\n",
    "    Xnorm = (Xvals-mean)/std\n",
    "    return Xnorm, mean, std"
   ]
  },
  {
   "cell_type": "code",
   "execution_count": 29,
   "metadata": {
    "scrolled": true
   },
   "outputs": [],
   "source": [
    "X, mean, std = featureNormalize(X_train)\n",
    "y = y_train.reshape(-1,1)\n",
    "X = np.insert(X, 0, 1, axis=1)"
   ]
  },
  {
   "cell_type": "code",
   "execution_count": 30,
   "metadata": {
    "collapsed": true
   },
   "outputs": [],
   "source": [
    "initial_theta = np.zeros((X.shape[1], 1))\n",
    "learning_rate = 0.05\n",
    "num_iterations = 200"
   ]
  },
  {
   "cell_type": "code",
   "execution_count": 31,
   "metadata": {},
   "outputs": [
    {
     "data": {
      "text/plain": [
       "array([[ 292.4022]])"
      ]
     },
     "execution_count": 31,
     "metadata": {},
     "output_type": "execute_result"
    }
   ],
   "source": [
    "J = compute_cost(X, y, initial_theta)\n",
    "J"
   ]
  },
  {
   "cell_type": "code",
   "execution_count": 32,
   "metadata": {},
   "outputs": [
    {
     "data": {
      "text/plain": [
       "<matplotlib.legend.Legend at 0xaeebe10>"
      ]
     },
     "execution_count": 32,
     "metadata": {},
     "output_type": "execute_result"
    },
    {
     "data": {
      "image/png": "[encoded data removed]",
      "text/plain": [
       "<matplotlib.figure.Figure at 0x9a14cf8>"
      ]
     },
     "metadata": {},
     "output_type": "display_data"
    }
   ],
   "source": [
    "theta, j_cost = gradient_descent(X, y, initial_theta, learning_rate, num_iterations)\n",
    "theta1, j_cost1 = gradient_descent(X, y, initial_theta, 0.01, num_iterations)\n",
    "theta2, j_cost2 = gradient_descent(X, y, initial_theta, 0.03, num_iterations)\n",
    "theta3, j_cost3 = gradient_descent(X, y, initial_theta, 0.1, num_iterations)\n",
    "theta4, j_cost4 = gradient_descent(X, y, initial_theta, 0.3, num_iterations)\n",
    "theta5, j_cost5 = gradient_descent(X, y, initial_theta, 1, num_iterations)\n",
    "plt.xlabel('Number of iterations');\n",
    "plt.ylabel('Cost J');\n",
    "plt.plot(range(num_iterations), j_cost, color='C0', label='0.05')\n",
    "plt.plot(range(num_iterations), j_cost1, color='C1', label='0.01')\n",
    "plt.plot(range(num_iterations), j_cost2, color='C2', label='0.03')\n",
    "plt.plot(range(num_iterations), j_cost3, color='C3', label='0.1')\n",
    "plt.plot(range(num_iterations), j_cost4, color='C4', label='0.3')\n",
    "#plt.plot(range(num_iterations), j_cost5, color='C5', label='1') # too high\n",
    "plt.legend()"
   ]
  },
  {
   "cell_type": "code",
   "execution_count": 33,
   "metadata": {},
   "outputs": [
    {
     "name": "stdout",
     "output_type": "stream",
     "text": [
      "9.75516317067\n"
     ]
    }
   ],
   "source": [
    "print(j_cost[-1])"
   ]
  },
  {
   "cell_type": "code",
   "execution_count": 34,
   "metadata": {},
   "outputs": [
    {
     "data": {
      "text/plain": [
       "array([[ 22.43921342],\n",
       "       [ -0.89155514],\n",
       "       [  0.63123383],\n",
       "       [ -0.39408166],\n",
       "       [  0.83995588],\n",
       "       [ -1.54564745],\n",
       "       [  3.13690451],\n",
       "       [ -0.58030916],\n",
       "       [ -2.87398049],\n",
       "       [  1.35632968],\n",
       "       [ -1.07921387],\n",
       "       [ -1.85273378],\n",
       "       [  0.97722112],\n",
       "       [ -2.92098184]])"
      ]
     },
     "execution_count": 34,
     "metadata": {},
     "output_type": "execute_result"
    }
   ],
   "source": [
    "theta"
   ]
  },
  {
   "cell_type": "code",
   "execution_count": 35,
   "metadata": {},
   "outputs": [
    {
     "data": {
      "text/plain": [
       "LinearRegression(copy_X=True, fit_intercept=True, n_jobs=1, normalize=True)"
      ]
     },
     "execution_count": 35,
     "metadata": {},
     "output_type": "execute_result"
    }
   ],
   "source": [
    "linear_reg = linear_model.LinearRegression(normalize=True)\n",
    "linear_reg.fit(X_train, y_train)"
   ]
  },
  {
   "cell_type": "code",
   "execution_count": 36,
   "metadata": {},
   "outputs": [
    {
     "data": {
      "text/plain": [
       "array([ -1.18598117e-01,   3.60865144e-02,  -1.12950656e-02,\n",
       "         3.17808869e+00,  -1.86498041e+01,   4.33474018e+00,\n",
       "        -1.59608370e-02,  -1.58583899e+00,   2.92535768e-01,\n",
       "        -1.30611050e-02,  -9.52833810e-01,   9.74466412e-03,\n",
       "        -4.22047050e-01])"
      ]
     },
     "execution_count": 36,
     "metadata": {},
     "output_type": "execute_result"
    }
   ],
   "source": [
    "linear_reg.coef_"
   ]
  },
  {
   "cell_type": "code",
   "execution_count": 37,
   "metadata": {},
   "outputs": [
    {
     "data": {
      "text/plain": [
       "34.437816485782733"
      ]
     },
     "execution_count": 37,
     "metadata": {},
     "output_type": "execute_result"
    }
   ],
   "source": [
    "linear_reg.intercept_"
   ]
  },
  {
   "cell_type": "markdown",
   "metadata": {},
   "source": [
    "## Normal Equations\n",
    "The closed-form solution to linear regression:\n",
    "\n",
    "$$ \\theta = (X^TX)^{-1}X^{T}\\vec{y}$$"
   ]
  },
  {
   "cell_type": "code",
   "execution_count": 38,
   "metadata": {
    "collapsed": true
   },
   "outputs": [],
   "source": [
    "def normalEquations(X_values, y_values):\n",
    "    theta_value = np.linalg.inv(np.dot(X_values.T, X_values)).dot(X_values.T).dot(y_values)\n",
    "    return theta_value"
   ]
  },
  {
   "cell_type": "code",
   "execution_count": 39,
   "metadata": {},
   "outputs": [
    {
     "data": {
      "text/plain": [
       "array([  3.44378165e+01,  -1.18598117e-01,   3.60865144e-02,\n",
       "        -1.12950656e-02,   3.17808869e+00,  -1.86498041e+01,\n",
       "         4.33474018e+00,  -1.59608370e-02,  -1.58583899e+00,\n",
       "         2.92535768e-01,  -1.30611050e-02,  -9.52833810e-01,\n",
       "         9.74466412e-03,  -4.22047050e-01])"
      ]
     },
     "execution_count": 39,
     "metadata": {},
     "output_type": "execute_result"
    }
   ],
   "source": [
    "normalEq_X = np.insert(X_train, 0, 1, axis=1)\n",
    "normalEq_theta = normalEquations(normalEq_X, y_train)\n",
    "normalEq_theta"
   ]
  },
  {
   "cell_type": "markdown",
   "metadata": {},
   "source": [
    "## Compute error rate\n",
    "\n",
    "$$\\frac{1}{2m_{test}}\\sum_{i=1}^{m_{test}}(h_{\\Theta}(x_{test}^{(i)})-y_{test}^{(i)})^2$$"
   ]
  },
  {
   "cell_type": "code",
   "execution_count": 40,
   "metadata": {},
   "outputs": [
    {
     "data": {
      "text/plain": [
       "array([[ 14.64429232]])"
      ]
     },
     "execution_count": 40,
     "metadata": {},
     "output_type": "execute_result"
    }
   ],
   "source": [
    "X_test_nor = X_test\n",
    "X_test_nor = X_test_nor - mean\n",
    "X_test_nor = X_test_nor / std\n",
    "my_test_error_rate = predict(X_test_nor, theta) - y_test.reshape(-1,1)\n",
    "my_test_error_rate = my_test_error_rate.T.dot(my_test_error_rate) / (2*len(X_test))\n",
    "my_test_error_rate"
   ]
  },
  {
   "cell_type": "code",
   "execution_count": 41,
   "metadata": {},
   "outputs": [
    {
     "data": {
      "text/plain": [
       "14.518345763432007"
      ]
     },
     "execution_count": 41,
     "metadata": {},
     "output_type": "execute_result"
    }
   ],
   "source": [
    "sklean_error_rate = linear_reg.predict(X_test) - y_test\n",
    "sklean_error_rate = sklean_error_rate.dot(sklean_error_rate) / (2*len(X_test))\n",
    "sklean_error_rate"
   ]
  },
  {
   "cell_type": "code",
   "execution_count": 42,
   "metadata": {},
   "outputs": [
    {
     "data": {
      "text/plain": [
       "14.518345763431734"
      ]
     },
     "execution_count": 42,
     "metadata": {},
     "output_type": "execute_result"
    }
   ],
   "source": [
    "normalEq_error_rate = predict(X_test, normalEq_theta) - y_test\n",
    "normalEq_error_rate = normalEq_error_rate.dot(normalEq_error_rate) / (2*len(X_test))\n",
    "normalEq_error_rate"
   ]
  }
 ],
 "metadata": {
  "kernelspec": {
   "display_name": "Python 3",
   "language": "python",
   "name": "python3"
  },
  "language_info": {
   "codemirror_mode": {
    "name": "ipython",
    "version": 3
   },
   "file_extension": ".py",
   "mimetype": "text/x-python",
   "name": "python",
   "nbconvert_exporter": "python",
   "pygments_lexer": "ipython3",
   "version": "3.6.1"
  }
 },
 "nbformat": 4,
 "nbformat_minor": 2
}
